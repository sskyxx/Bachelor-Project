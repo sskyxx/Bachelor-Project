{
 "cells": [
  {
   "cell_type": "code",
   "execution_count": 1,
   "metadata": {},
   "outputs": [],
   "source": [
    "import numpy as np \n",
    "import pandas as pd\n",
    "import matplotlib.pyplot as plt\n",
    "import seaborn as sns\n",
    "from adjustText import adjust_text\n",
    "from matplotlib.patches import Circle\n",
    "import os\n",
    "import pickle\n",
    "from scipy.stats import mannwhitneyu, ttest_ind, kruskal, f_oneway\n",
    "from statannotations.Annotator import Annotator\n",
    "from itertools import combinations\n",
    "from ipywidgets import interact\n",
    "import ipywidgets as widgets\n",
    "from IPython.display import clear_output, display\n",
    "import sys\n",
    "sys.path.append('../scripts') \n",
    "from functions import *\n",
    "from config import nutrient_info, conversion_factors"
   ]
  },
  {
   "cell_type": "code",
   "execution_count": 2,
   "metadata": {},
   "outputs": [
    {
     "name": "stderr",
     "output_type": "stream",
     "text": [
      "C:\\Users\\Sophie\\AppData\\Local\\Temp\\ipykernel_3656\\2711278687.py:1: DtypeWarning: Columns (1,16) have mixed types. Specify dtype option on import or set low_memory=False.\n",
      "  df_food_scaled = pd.read_csv('../data/df_food_scaled.csv')\n"
     ]
    }
   ],
   "source": [
    "df_food_scaled = pd.read_csv('../data/df_food_scaled.csv')"
   ]
  },
  {
   "cell_type": "code",
   "execution_count": 3,
   "metadata": {},
   "outputs": [],
   "source": [
    "qualifying_nutrients = {nutr: info for nutr, info in nutrient_info.items() if info['type'] == 'qualifying'}\n",
    "disqualifying_nutrients = {nutr: info for nutr, info in nutrient_info.items() if info['type'] == 'disqualifying'}"
   ]
  },
  {
   "cell_type": "code",
   "execution_count": 4,
   "metadata": {},
   "outputs": [
    {
     "data": {
      "text/html": [
       "<div>\n",
       "<style scoped>\n",
       "    .dataframe tbody tr th:only-of-type {\n",
       "        vertical-align: middle;\n",
       "    }\n",
       "\n",
       "    .dataframe tbody tr th {\n",
       "        vertical-align: top;\n",
       "    }\n",
       "\n",
       "    .dataframe thead th {\n",
       "        text-align: right;\n",
       "    }\n",
       "</style>\n",
       "<table border=\"1\" class=\"dataframe\">\n",
       "  <thead>\n",
       "    <tr style=\"text-align: right;\">\n",
       "      <th></th>\n",
       "      <th>combined_name</th>\n",
       "      <th>QI</th>\n",
       "      <th>DI</th>\n",
       "      <th>NB</th>\n",
       "    </tr>\n",
       "  </thead>\n",
       "  <tbody>\n",
       "    <tr>\n",
       "      <th>275126</th>\n",
       "      <td>Pasta noodles, without gluten</td>\n",
       "      <td>9.282747</td>\n",
       "      <td>0.117102</td>\n",
       "      <td>36.191516</td>\n",
       "    </tr>\n",
       "    <tr>\n",
       "      <th>297368</th>\n",
       "      <td>Alnatura - Rote Linsen Spirelli</td>\n",
       "      <td>4.594666</td>\n",
       "      <td>0.078480</td>\n",
       "      <td>26.904351</td>\n",
       "    </tr>\n",
       "    <tr>\n",
       "      <th>296557</th>\n",
       "      <td>Spaghetti gelbe Linsen</td>\n",
       "      <td>4.587200</td>\n",
       "      <td>0.083617</td>\n",
       "      <td>26.939159</td>\n",
       "    </tr>\n",
       "    <tr>\n",
       "      <th>300573</th>\n",
       "      <td>Barilla : Spaghetti no.5 : Glutenfrei</td>\n",
       "      <td>4.236493</td>\n",
       "      <td>0.067197</td>\n",
       "      <td>21.535476</td>\n",
       "    </tr>\n",
       "    <tr>\n",
       "      <th>110733</th>\n",
       "      <td>Wheatgerm</td>\n",
       "      <td>3.236498</td>\n",
       "      <td>0.262335</td>\n",
       "      <td>72.424547</td>\n",
       "    </tr>\n",
       "    <tr>\n",
       "      <th>...</th>\n",
       "      <td>...</td>\n",
       "      <td>...</td>\n",
       "      <td>...</td>\n",
       "      <td>...</td>\n",
       "    </tr>\n",
       "    <tr>\n",
       "      <th>313255</th>\n",
       "      <td>Carloni, Enjoy free! - Quinoa &amp; Buchweizen Penne</td>\n",
       "      <td>0.042116</td>\n",
       "      <td>0.050463</td>\n",
       "      <td>4.211569</td>\n",
       "    </tr>\n",
       "    <tr>\n",
       "      <th>280767</th>\n",
       "      <td>Mei Yang Spring Roll Paper</td>\n",
       "      <td>0.036950</td>\n",
       "      <td>0.044540</td>\n",
       "      <td>3.695036</td>\n",
       "    </tr>\n",
       "    <tr>\n",
       "      <th>312120</th>\n",
       "      <td>Gut Bio - Mini Mais-Waffeln Popcorn (Vegan)</td>\n",
       "      <td>0.033879</td>\n",
       "      <td>0.063457</td>\n",
       "      <td>3.387916</td>\n",
       "    </tr>\n",
       "    <tr>\n",
       "      <th>285311</th>\n",
       "      <td>noodles vegetable</td>\n",
       "      <td>0.028986</td>\n",
       "      <td>1.643139</td>\n",
       "      <td>2.898551</td>\n",
       "    </tr>\n",
       "    <tr>\n",
       "      <th>298397</th>\n",
       "      <td>Tapioca, Japanese Pearls, raw</td>\n",
       "      <td>0.011336</td>\n",
       "      <td>0.025477</td>\n",
       "      <td>1.133628</td>\n",
       "    </tr>\n",
       "  </tbody>\n",
       "</table>\n",
       "<p>204 rows × 4 columns</p>\n",
       "</div>"
      ],
      "text/plain": [
       "                                           combined_name        QI        DI  \\\n",
       "275126                     Pasta noodles, without gluten  9.282747  0.117102   \n",
       "297368                   Alnatura - Rote Linsen Spirelli  4.594666  0.078480   \n",
       "296557                            Spaghetti gelbe Linsen  4.587200  0.083617   \n",
       "300573             Barilla : Spaghetti no.5 : Glutenfrei  4.236493  0.067197   \n",
       "110733                                         Wheatgerm  3.236498  0.262335   \n",
       "...                                                  ...       ...       ...   \n",
       "313255  Carloni, Enjoy free! - Quinoa & Buchweizen Penne  0.042116  0.050463   \n",
       "280767                        Mei Yang Spring Roll Paper  0.036950  0.044540   \n",
       "312120       Gut Bio - Mini Mais-Waffeln Popcorn (Vegan)  0.033879  0.063457   \n",
       "285311                                 noodles vegetable  0.028986  1.643139   \n",
       "298397                     Tapioca, Japanese Pearls, raw  0.011336  0.025477   \n",
       "\n",
       "               NB  \n",
       "275126  36.191516  \n",
       "297368  26.904351  \n",
       "296557  26.939159  \n",
       "300573  21.535476  \n",
       "110733  72.424547  \n",
       "...           ...  \n",
       "313255   4.211569  \n",
       "280767   3.695036  \n",
       "312120   3.387916  \n",
       "285311   2.898551  \n",
       "298397   1.133628  \n",
       "\n",
       "[204 rows x 4 columns]"
      ]
     },
     "execution_count": 4,
     "metadata": {},
     "output_type": "execute_result"
    }
   ],
   "source": [
    "df_cereal_grains_starches = df_food_scaled[df_food_scaled['food_group'] == 'cereal_grains_starches']\n",
    "df_cereal_grains_starches.drop_duplicates('combined_name')[['combined_name', 'QI', 'DI', 'NB']].sort_values('QI', ascending=False)"
   ]
  },
  {
   "cell_type": "code",
   "execution_count": 5,
   "metadata": {},
   "outputs": [],
   "source": [
    "high_qi_cereal_grains_starches = df_cereal_grains_starches[df_cereal_grains_starches['QI'] > 2].drop_duplicates('combined_name').sort_values('QI', ascending=False)"
   ]
  },
  {
   "cell_type": "code",
   "execution_count": 6,
   "metadata": {},
   "outputs": [
    {
     "data": {
      "text/html": [
       "<div>\n",
       "<style scoped>\n",
       "    .dataframe tbody tr th:only-of-type {\n",
       "        vertical-align: middle;\n",
       "    }\n",
       "\n",
       "    .dataframe tbody tr th {\n",
       "        vertical-align: top;\n",
       "    }\n",
       "\n",
       "    .dataframe thead th {\n",
       "        text-align: right;\n",
       "    }\n",
       "</style>\n",
       "<table border=\"1\" class=\"dataframe\">\n",
       "  <thead>\n",
       "    <tr style=\"text-align: right;\">\n",
       "      <th></th>\n",
       "      <th>combined_name</th>\n",
       "      <th>eaten_quantity</th>\n",
       "      <th>QI</th>\n",
       "      <th>DI</th>\n",
       "      <th>NB</th>\n",
       "    </tr>\n",
       "  </thead>\n",
       "  <tbody>\n",
       "    <tr>\n",
       "      <th>275126</th>\n",
       "      <td>Pasta noodles, without gluten</td>\n",
       "      <td>150.0</td>\n",
       "      <td>9.282747</td>\n",
       "      <td>0.117102</td>\n",
       "      <td>36.191516</td>\n",
       "    </tr>\n",
       "    <tr>\n",
       "      <th>297368</th>\n",
       "      <td>Alnatura - Rote Linsen Spirelli</td>\n",
       "      <td>50.0</td>\n",
       "      <td>4.594666</td>\n",
       "      <td>0.078480</td>\n",
       "      <td>26.904351</td>\n",
       "    </tr>\n",
       "    <tr>\n",
       "      <th>296557</th>\n",
       "      <td>Spaghetti gelbe Linsen</td>\n",
       "      <td>184.0</td>\n",
       "      <td>4.587200</td>\n",
       "      <td>0.083617</td>\n",
       "      <td>26.939159</td>\n",
       "    </tr>\n",
       "    <tr>\n",
       "      <th>300573</th>\n",
       "      <td>Barilla : Spaghetti no.5 : Glutenfrei</td>\n",
       "      <td>50.0</td>\n",
       "      <td>4.236493</td>\n",
       "      <td>0.067197</td>\n",
       "      <td>21.535476</td>\n",
       "    </tr>\n",
       "    <tr>\n",
       "      <th>110733</th>\n",
       "      <td>Wheatgerm</td>\n",
       "      <td>15.0</td>\n",
       "      <td>3.236498</td>\n",
       "      <td>0.262335</td>\n",
       "      <td>72.424547</td>\n",
       "    </tr>\n",
       "    <tr>\n",
       "      <th>308195</th>\n",
       "      <td>Saitaku - Shirataki noodles</td>\n",
       "      <td>80.0</td>\n",
       "      <td>2.385870</td>\n",
       "      <td>1.658508</td>\n",
       "      <td>10.000000</td>\n",
       "    </tr>\n",
       "  </tbody>\n",
       "</table>\n",
       "</div>"
      ],
      "text/plain": [
       "                                combined_name  eaten_quantity        QI  \\\n",
       "275126          Pasta noodles, without gluten           150.0  9.282747   \n",
       "297368        Alnatura - Rote Linsen Spirelli            50.0  4.594666   \n",
       "296557                 Spaghetti gelbe Linsen           184.0  4.587200   \n",
       "300573  Barilla : Spaghetti no.5 : Glutenfrei            50.0  4.236493   \n",
       "110733                              Wheatgerm            15.0  3.236498   \n",
       "308195            Saitaku - Shirataki noodles            80.0  2.385870   \n",
       "\n",
       "              DI         NB  \n",
       "275126  0.117102  36.191516  \n",
       "297368  0.078480  26.904351  \n",
       "296557  0.083617  26.939159  \n",
       "300573  0.067197  21.535476  \n",
       "110733  0.262335  72.424547  \n",
       "308195  1.658508  10.000000  "
      ]
     },
     "execution_count": 6,
     "metadata": {},
     "output_type": "execute_result"
    }
   ],
   "source": [
    "high_qi_cereal_grains_starches[['combined_name', 'eaten_quantity', 'QI', 'DI', 'NB']]"
   ]
  },
  {
   "cell_type": "code",
   "execution_count": 7,
   "metadata": {},
   "outputs": [
    {
     "data": {
      "text/plain": [
       "protein_eaten_ratio_scaled                                  -0.645022\n",
       "sugar_eaten_ratio_scaled                                    -0.615259\n",
       "fat_eaten_ratio_scaled                                      -0.579919\n",
       "fiber_eaten_ratio_scaled                                    -0.507670\n",
       "fatty_acids_saturated_eaten_ratio_scaled                    -0.487101\n",
       "salt_eaten_ratio_scaled                                     -0.477811\n",
       "beta_carotene_eaten_ratio_scaled                            -0.303281\n",
       "vitamin_e_activity_eaten_ratio_scaled                       -0.303281\n",
       "vitamin_b2_eaten_ratio_scaled                               -0.303281\n",
       "vitamin_b1_eaten_ratio_scaled                               -0.275525\n",
       "zinc_eaten_ratio_scaled                                     -0.259552\n",
       "potassium_eaten_ratio_scaled                                -0.250691\n",
       "iron_eaten_ratio_scaled                                     -0.196498\n",
       "phosphorus_eaten_ratio_scaled                               -0.195114\n",
       "folate_eaten_ratio_scaled                                   -0.148507\n",
       "niacin_eaten_ratio_scaled                                   -0.147596\n",
       "magnesium_eaten_ratio_scaled                                -0.142365\n",
       "pantothenic_acid_eaten_ratio_scaled                         -0.100323\n",
       "calcium_eaten_ratio_scaled                                   0.028169\n",
       "sodium_eaten_ratio_scaled                                    0.887724\n",
       "cholesterol_eaten_ratio_scaled                               0.944463\n",
       "vitamin_b12_eaten_ratio_scaled                               0.944463\n",
       "vitamin_b6_eaten_ratio_scaled                                0.952246\n",
       "QI                                                           1.000000\n",
       "all_trans_retinol_equivalents_activity_eaten_ratio_scaled         NaN\n",
       "vitamin_c_eaten_ratio_scaled                                      NaN\n",
       "vitamin_d_eaten_ratio_scaled                                      NaN\n",
       "Name: QI, dtype: float64"
      ]
     },
     "execution_count": 7,
     "metadata": {},
     "output_type": "execute_result"
    }
   ],
   "source": [
    "ratio_cols = [i for i in high_qi_cereal_grains_starches.columns if '_ratio_scaled' in i]\n",
    "\n",
    "df_corr = high_qi_cereal_grains_starches[ratio_cols + ['QI']]\n",
    "corr = df_corr.corr()['QI']\n",
    "corr.sort_values(ascending=True)"
   ]
  },
  {
   "cell_type": "code",
   "execution_count": 8,
   "metadata": {},
   "outputs": [],
   "source": [
    "def interactive_exclude_nutrient(nutrient):\n",
    "    clear_output(wait=True)\n",
    "    df_plot = compare_qi_excluding_nutrient(\n",
    "        df=high_qi_cereal_grains_starches, \n",
    "        nutrient_to_exclude=nutrient,\n",
    "        qualifying_nutrients=qualifying_nutrients, \n",
    "        scaling_factor=2000\n",
    "    )\n",
    "\n",
    "    display(df_plot[['combined_name', 'QI', f\"QI_excl_{nutrient}\", 'QI_diff', 'QI_pct_change']])\n",
    "\n",
    "    print(f\"\\nExcluding {nutrient} for NB:\")\n",
    "    df_nb = compare_nb_excluding_nutrient(\n",
    "        df=high_qi_cereal_grains_starches, \n",
    "        nutrient_to_exclude=nutrient,\n",
    "        qualifying_nutrients=qualifying_nutrients, \n",
    "        scaling_factor=2000\n",
    "    )\n",
    "    display(df_nb[['combined_name', 'NB', f\"NB_excl_{nutrient}\", 'NB_diff', 'NB_pct_change']])\n",
    "\n",
    "nutrient_choice = ['folate_eaten', \n",
    "                   'niacin_eaten', \n",
    "                   'pantothenic_acid_eaten', \n",
    "                   'vitamin_b2_eaten', \n",
    "                   'vitamin_b1_eaten', \n",
    "                   'all_trans_retinol_equivalents_activity_eaten', \n",
    "                   'beta_carotene_eaten', \n",
    "                   'vitamin_b12_eaten', \n",
    "                   'vitamin_b6_eaten', \n",
    "                   'vitamin_c_eaten', \n",
    "                   'vitamin_d_eaten', \n",
    "                   'vitamin_e_activity_eaten', \n",
    "                   'calcium_eaten', \n",
    "                   'iron_eaten', \n",
    "                   'magnesium_eaten', \n",
    "                   'phosphorus_eaten', \n",
    "                   'potassium_eaten', \n",
    "                   'zinc_eaten', \n",
    "                   'fiber_eaten', \n",
    "                   'protein_eaten']"
   ]
  },
  {
   "cell_type": "code",
   "execution_count": 9,
   "metadata": {},
   "outputs": [
    {
     "data": {
      "application/vnd.jupyter.widget-view+json": {
       "model_id": "ad707f9dce4b438cb53bbd1e6ba66cf7",
       "version_major": 2,
       "version_minor": 0
      },
      "text/plain": [
       "interactive(children=(Dropdown(description='Exclude:', options=('folate_eaten', 'niacin_eaten', 'pantothenic_a…"
      ]
     },
     "metadata": {},
     "output_type": "display_data"
    },
    {
     "data": {
      "text/plain": [
       "<function __main__.interactive_exclude_nutrient(nutrient)>"
      ]
     },
     "execution_count": 9,
     "metadata": {},
     "output_type": "execute_result"
    }
   ],
   "source": [
    "interact(interactive_exclude_nutrient, nutrient=widgets.Dropdown(options=nutrient_choice, description='Exclude:'))"
   ]
  },
  {
   "cell_type": "code",
   "execution_count": null,
   "metadata": {},
   "outputs": [],
   "source": []
  },
  {
   "cell_type": "markdown",
   "metadata": {},
   "source": [
    "- vitamin b6\n",
    "- fiber\n",
    "- protein"
   ]
  },
  {
   "cell_type": "code",
   "execution_count": 10,
   "metadata": {},
   "outputs": [
    {
     "name": "stdout",
     "output_type": "stream",
     "text": [
      "Food item : Pasta noodles, without gluten\n",
      "QI (incl. all): 7.454302070660035\n",
      "QI (excl. fiber_eaten, vitamin_b6_eaten, protein_eaten): 0.25966644759717084\n",
      "NB (incl. all): 31.76\n",
      "NB (excl. fiber_eaten, vitamin_b6_eaten, protein_eaten): 25.57\n",
      "-----------\n",
      "Food item : Alnatura - Rote Linsen Spirelli\n",
      "QI (incl. all): 3.6945679476944284\n",
      "QI (excl. fiber_eaten, vitamin_b6_eaten, protein_eaten): 0.12962508888291718\n",
      "NB (incl. all): 23.41\n",
      "NB (excl. fiber_eaten, vitamin_b6_eaten, protein_eaten): 12.96\n",
      "-----------\n",
      "Food item : Spaghetti gelbe Linsen\n",
      "QI (incl. all): 3.689828377474806\n",
      "QI (excl. fiber_eaten, vitamin_b6_eaten, protein_eaten): 0.1313423602311917\n",
      "NB (incl. all): 23.56\n",
      "NB (excl. fiber_eaten, vitamin_b6_eaten, protein_eaten): 13.13\n",
      "-----------\n",
      "Food item : Barilla : Spaghetti no.5 : Glutenfrei\n",
      "QI (incl. all): 3.40532140572286\n",
      "QI (excl. fiber_eaten, vitamin_b6_eaten, protein_eaten): 0.12172470118273776\n",
      "NB (incl. all): 18.84\n",
      "NB (excl. fiber_eaten, vitamin_b6_eaten, protein_eaten): 12.17\n",
      "-----------\n",
      "Food item : Wheatgerm\n",
      "QI (incl. all): 2.6321993924015525\n",
      "QI (excl. fiber_eaten, vitamin_b6_eaten, protein_eaten): 2.350533409556211\n",
      "NB (incl. all): 62.24\n",
      "NB (excl. fiber_eaten, vitamin_b6_eaten, protein_eaten): 57.09\n",
      "-----------\n",
      "Food item : Saitaku - Shirataki noodles\n",
      "QI (incl. all): 2.3067376102158685\n",
      "QI (excl. fiber_eaten, vitamin_b6_eaten, protein_eaten): 0.4523204068658594\n",
      "NB (incl. all): 24.00\n",
      "NB (excl. fiber_eaten, vitamin_b6_eaten, protein_eaten): 18.18\n",
      "-----------\n"
     ]
    }
   ],
   "source": [
    "exclude_list = ['fiber_eaten', 'vitamin_b6_eaten', 'protein_eaten']\n",
    "qualifying_nutrients = list(nutrient_info.keys())\n",
    "\n",
    "for idx, row in high_qi_cereal_grains_starches.iterrows():\n",
    "\n",
    "    qi_incl = compute_qi_excluding_multiple(row, qualifying_nutrients, exclude_list=[])\n",
    "    qi_excl = compute_qi_excluding_multiple(row, qualifying_nutrients, exclude_list=exclude_list)\n",
    "\n",
    "    nb_incl = compute_nb_excluding_multiple(row, qualifying_nutrients, exclude_list=[]) \n",
    "    nb_excl = compute_nb_excluding_multiple(row, qualifying_nutrients, exclude_list=exclude_list)\n",
    "\n",
    "    print(f\"Food item : {row['combined_name']}\")\n",
    "    print(f\"QI (incl. all): {qi_incl}\")\n",
    "    print(f\"QI (excl. {', '.join(exclude_list)}): {qi_excl}\")\n",
    "    print(f\"NB (incl. all): {nb_incl:.2f}\")\n",
    "    print(f\"NB (excl. {', '.join(exclude_list)}): {nb_excl:.2f}\")\n",
    "    print(\"-----------\")"
   ]
  },
  {
   "cell_type": "code",
   "execution_count": null,
   "metadata": {},
   "outputs": [],
   "source": []
  }
 ],
 "metadata": {
  "kernelspec": {
   "display_name": "Nutrient_Bachelor_Project",
   "language": "python",
   "name": "python3"
  },
  "language_info": {
   "codemirror_mode": {
    "name": "ipython",
    "version": 3
   },
   "file_extension": ".py",
   "mimetype": "text/x-python",
   "name": "python",
   "nbconvert_exporter": "python",
   "pygments_lexer": "ipython3",
   "version": "3.11.11"
  }
 },
 "nbformat": 4,
 "nbformat_minor": 2
}

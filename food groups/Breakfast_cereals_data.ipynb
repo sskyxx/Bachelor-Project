{
 "cells": [
  {
   "cell_type": "code",
   "execution_count": 1,
   "metadata": {},
   "outputs": [],
   "source": [
    "import sys\n",
    "sys.path.append('../scripts') \n",
    "from functions import *\n",
    "from config import nutrient_info, conversion_factors"
   ]
  },
  {
   "cell_type": "code",
   "execution_count": 2,
   "metadata": {},
   "outputs": [
    {
     "name": "stderr",
     "output_type": "stream",
     "text": [
      "C:\\Users\\Sophie\\AppData\\Local\\Temp\\ipykernel_9356\\2711278687.py:1: DtypeWarning: Columns (1,16) have mixed types. Specify dtype option on import or set low_memory=False.\n",
      "  df_food_scaled = pd.read_csv('../data/df_food_scaled.csv')\n"
     ]
    }
   ],
   "source": [
    "df_food_scaled = pd.read_csv('../data/df_food_scaled.csv')"
   ]
  },
  {
   "cell_type": "code",
   "execution_count": 3,
   "metadata": {},
   "outputs": [],
   "source": [
    "qualifying_nutrients = {nutr: info for nutr, info in nutrient_info.items() if info['type'] == 'qualifying'}\n",
    "disqualifying_nutrients = {nutr: info for nutr, info in nutrient_info.items() if info['type'] == 'disqualifying'}"
   ]
  },
  {
   "cell_type": "code",
   "execution_count": 4,
   "metadata": {},
   "outputs": [
    {
     "data": {
      "text/html": [
       "<div>\n",
       "<style scoped>\n",
       "    .dataframe tbody tr th:only-of-type {\n",
       "        vertical-align: middle;\n",
       "    }\n",
       "\n",
       "    .dataframe tbody tr th {\n",
       "        vertical-align: top;\n",
       "    }\n",
       "\n",
       "    .dataframe thead th {\n",
       "        text-align: right;\n",
       "    }\n",
       "</style>\n",
       "<table border=\"1\" class=\"dataframe\">\n",
       "  <thead>\n",
       "    <tr style=\"text-align: right;\">\n",
       "      <th></th>\n",
       "      <th>combined_name</th>\n",
       "      <th>QI</th>\n",
       "      <th>DI</th>\n",
       "      <th>NB</th>\n",
       "    </tr>\n",
       "  </thead>\n",
       "  <tbody>\n",
       "    <tr>\n",
       "      <th>110444</th>\n",
       "      <td>Bran</td>\n",
       "      <td>4.469783</td>\n",
       "      <td>0.135911</td>\n",
       "      <td>72.884406</td>\n",
       "    </tr>\n",
       "    <tr>\n",
       "      <th>300765</th>\n",
       "      <td>Kellogg's - Special K classic</td>\n",
       "      <td>3.411021</td>\n",
       "      <td>0.413441</td>\n",
       "      <td>50.000000</td>\n",
       "    </tr>\n",
       "    <tr>\n",
       "      <th>286079</th>\n",
       "      <td>KELLOGG'S : Special K Classic</td>\n",
       "      <td>3.411021</td>\n",
       "      <td>0.413441</td>\n",
       "      <td>50.000000</td>\n",
       "    </tr>\n",
       "    <tr>\n",
       "      <th>305891</th>\n",
       "      <td>Kellogg's Special Classic</td>\n",
       "      <td>3.378793</td>\n",
       "      <td>0.432178</td>\n",
       "      <td>49.800000</td>\n",
       "    </tr>\n",
       "    <tr>\n",
       "      <th>142884</th>\n",
       "      <td>Kellogg's Special K</td>\n",
       "      <td>3.378793</td>\n",
       "      <td>0.298252</td>\n",
       "      <td>49.800000</td>\n",
       "    </tr>\n",
       "    <tr>\n",
       "      <th>...</th>\n",
       "      <td>...</td>\n",
       "      <td>...</td>\n",
       "      <td>...</td>\n",
       "      <td>...</td>\n",
       "    </tr>\n",
       "    <tr>\n",
       "      <th>314939</th>\n",
       "      <td>Anna's BEST Birchermüesli Classic</td>\n",
       "      <td>0.053582</td>\n",
       "      <td>0.135428</td>\n",
       "      <td>5.000000</td>\n",
       "    </tr>\n",
       "    <tr>\n",
       "      <th>312516</th>\n",
       "      <td>Migros Bio Birchermüesli</td>\n",
       "      <td>0.049407</td>\n",
       "      <td>0.129500</td>\n",
       "      <td>4.940711</td>\n",
       "    </tr>\n",
       "    <tr>\n",
       "      <th>316599</th>\n",
       "      <td>Coop naturaplan - Bio Porridge Beeren</td>\n",
       "      <td>0.000000</td>\n",
       "      <td>0.191999</td>\n",
       "      <td>0.000000</td>\n",
       "    </tr>\n",
       "    <tr>\n",
       "      <th>310123</th>\n",
       "      <td>Farmer - Crunchy (Corn Flakes)</td>\n",
       "      <td>0.000000</td>\n",
       "      <td>0.000000</td>\n",
       "      <td>0.000000</td>\n",
       "    </tr>\n",
       "    <tr>\n",
       "      <th>310879</th>\n",
       "      <td>Farmer - Crunchy (Honig)</td>\n",
       "      <td>0.000000</td>\n",
       "      <td>0.509403</td>\n",
       "      <td>0.000000</td>\n",
       "    </tr>\n",
       "  </tbody>\n",
       "</table>\n",
       "<p>266 rows × 4 columns</p>\n",
       "</div>"
      ],
      "text/plain": [
       "                                combined_name        QI        DI         NB\n",
       "110444                                   Bran  4.469783  0.135911  72.884406\n",
       "300765          Kellogg's - Special K classic  3.411021  0.413441  50.000000\n",
       "286079          KELLOGG'S : Special K Classic  3.411021  0.413441  50.000000\n",
       "305891              Kellogg's Special Classic  3.378793  0.432178  49.800000\n",
       "142884                    Kellogg's Special K  3.378793  0.298252  49.800000\n",
       "...                                       ...       ...       ...        ...\n",
       "314939      Anna's BEST Birchermüesli Classic  0.053582  0.135428   5.000000\n",
       "312516               Migros Bio Birchermüesli  0.049407  0.129500   4.940711\n",
       "316599  Coop naturaplan - Bio Porridge Beeren  0.000000  0.191999   0.000000\n",
       "310123         Farmer - Crunchy (Corn Flakes)  0.000000  0.000000   0.000000\n",
       "310879               Farmer - Crunchy (Honig)  0.000000  0.509403   0.000000\n",
       "\n",
       "[266 rows x 4 columns]"
      ]
     },
     "execution_count": 4,
     "metadata": {},
     "output_type": "execute_result"
    }
   ],
   "source": [
    "\n",
    "df_breakfast_cereals = df_food_scaled[df_food_scaled['food_group'] == 'breakfast_cereals']\n",
    "df_breakfast_cereals.drop_duplicates('combined_name')[['combined_name', 'QI', 'DI', 'NB']].sort_values('QI', ascending=False)"
   ]
  },
  {
   "cell_type": "code",
   "execution_count": null,
   "metadata": {},
   "outputs": [],
   "source": []
  },
  {
   "cell_type": "code",
   "execution_count": null,
   "metadata": {},
   "outputs": [],
   "source": []
  }
 ],
 "metadata": {
  "kernelspec": {
   "display_name": "Nutrient_Bachelor_Project",
   "language": "python",
   "name": "python3"
  },
  "language_info": {
   "codemirror_mode": {
    "name": "ipython",
    "version": 3
   },
   "file_extension": ".py",
   "mimetype": "text/x-python",
   "name": "python",
   "nbconvert_exporter": "python",
   "pygments_lexer": "ipython3",
   "version": "3.11.11"
  }
 },
 "nbformat": 4,
 "nbformat_minor": 2
}

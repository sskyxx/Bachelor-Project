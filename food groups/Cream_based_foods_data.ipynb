{
 "cells": [
  {
   "cell_type": "code",
   "execution_count": 1,
   "metadata": {},
   "outputs": [],
   "source": [
    "import numpy as np \n",
    "import pandas as pd\n",
    "import matplotlib.pyplot as plt\n",
    "import seaborn as sns\n",
    "from adjustText import adjust_text\n",
    "from matplotlib.patches import Circle\n",
    "import os\n",
    "import pickle\n",
    "from scipy.stats import mannwhitneyu, ttest_ind, kruskal, f_oneway\n",
    "from statannotations.Annotator import Annotator\n",
    "from itertools import combinations\n",
    "from ipywidgets import interact\n",
    "import ipywidgets as widgets\n",
    "from IPython.display import clear_output, display\n",
    "import sys\n",
    "sys.path.append('../scripts') \n",
    "from functions import *\n",
    "from config import nutrient_info, conversion_factors"
   ]
  },
  {
   "cell_type": "code",
   "execution_count": 2,
   "metadata": {},
   "outputs": [
    {
     "name": "stderr",
     "output_type": "stream",
     "text": [
      "C:\\Users\\Sophie\\AppData\\Local\\Temp\\ipykernel_7340\\2711278687.py:1: DtypeWarning: Columns (1,16) have mixed types. Specify dtype option on import or set low_memory=False.\n",
      "  df_food_scaled = pd.read_csv('../data/df_food_scaled.csv')\n"
     ]
    }
   ],
   "source": [
    "df_food_scaled = pd.read_csv('../data/df_food_scaled.csv')"
   ]
  },
  {
   "cell_type": "code",
   "execution_count": 3,
   "metadata": {},
   "outputs": [],
   "source": [
    "qualifying_nutrients = {nutr: info for nutr, info in nutrient_info.items() if info['type'] == 'qualifying'}\n",
    "disqualifying_nutrients = {nutr: info for nutr, info in nutrient_info.items() if info['type'] == 'disqualifying'}"
   ]
  },
  {
   "cell_type": "code",
   "execution_count": 4,
   "metadata": {},
   "outputs": [
    {
     "data": {
      "text/html": [
       "<div>\n",
       "<style scoped>\n",
       "    .dataframe tbody tr th:only-of-type {\n",
       "        vertical-align: middle;\n",
       "    }\n",
       "\n",
       "    .dataframe tbody tr th {\n",
       "        vertical-align: top;\n",
       "    }\n",
       "\n",
       "    .dataframe thead th {\n",
       "        text-align: right;\n",
       "    }\n",
       "</style>\n",
       "<table border=\"1\" class=\"dataframe\">\n",
       "  <thead>\n",
       "    <tr style=\"text-align: right;\">\n",
       "      <th></th>\n",
       "      <th>combined_name</th>\n",
       "      <th>QI</th>\n",
       "      <th>DI</th>\n",
       "      <th>NB</th>\n",
       "    </tr>\n",
       "  </thead>\n",
       "  <tbody>\n",
       "    <tr>\n",
       "      <th>302965</th>\n",
       "      <td>Oh! HIGH PROTEIN NATURE lactose free, sugar free</td>\n",
       "      <td>80.241377</td>\n",
       "      <td>0.416987</td>\n",
       "      <td>62.349128</td>\n",
       "    </tr>\n",
       "    <tr>\n",
       "      <th>308629</th>\n",
       "      <td>Chiefs - Protein Pudding (Coco-Almond)</td>\n",
       "      <td>75.223594</td>\n",
       "      <td>1.070352</td>\n",
       "      <td>61.913073</td>\n",
       "    </tr>\n",
       "    <tr>\n",
       "      <th>305227</th>\n",
       "      <td>Crème Chantilly Chocolat La Laitière - Nestlé</td>\n",
       "      <td>15.781390</td>\n",
       "      <td>0.939142</td>\n",
       "      <td>60.357962</td>\n",
       "    </tr>\n",
       "    <tr>\n",
       "      <th>298443</th>\n",
       "      <td>Nestlé The Dairy Mousse Chantilly Chocolate</td>\n",
       "      <td>14.522616</td>\n",
       "      <td>1.234776</td>\n",
       "      <td>54.332210</td>\n",
       "    </tr>\n",
       "    <tr>\n",
       "      <th>293938</th>\n",
       "      <td>MIGROS OH! High protein Erdbeer</td>\n",
       "      <td>1.967678</td>\n",
       "      <td>0.479754</td>\n",
       "      <td>76.842593</td>\n",
       "    </tr>\n",
       "    <tr>\n",
       "      <th>...</th>\n",
       "      <td>...</td>\n",
       "      <td>...</td>\n",
       "      <td>...</td>\n",
       "      <td>...</td>\n",
       "    </tr>\n",
       "    <tr>\n",
       "      <th>313951</th>\n",
       "      <td>beleaf - Cheesecake alternative Himbeere, Reis...</td>\n",
       "      <td>0.005534</td>\n",
       "      <td>1.024429</td>\n",
       "      <td>0.553360</td>\n",
       "    </tr>\n",
       "    <tr>\n",
       "      <th>313139</th>\n",
       "      <td>Cornetto - Soft Ice cream (Strawberry)</td>\n",
       "      <td>0.005443</td>\n",
       "      <td>0.251087</td>\n",
       "      <td>0.544329</td>\n",
       "    </tr>\n",
       "    <tr>\n",
       "      <th>309026</th>\n",
       "      <td>Coop Qualité&amp;Prix - Rahmglace Schokolade</td>\n",
       "      <td>0.000000</td>\n",
       "      <td>0.000000</td>\n",
       "      <td>0.000000</td>\n",
       "    </tr>\n",
       "    <tr>\n",
       "      <th>313578</th>\n",
       "      <td>Coop Qualité &amp; Prix - Cornet mit Rahmglace Van...</td>\n",
       "      <td>0.000000</td>\n",
       "      <td>0.804755</td>\n",
       "      <td>0.000000</td>\n",
       "    </tr>\n",
       "    <tr>\n",
       "      <th>312782</th>\n",
       "      <td>Nestlé Frisco - Winnetou</td>\n",
       "      <td>0.000000</td>\n",
       "      <td>0.651381</td>\n",
       "      <td>0.000000</td>\n",
       "    </tr>\n",
       "  </tbody>\n",
       "</table>\n",
       "<p>394 rows × 4 columns</p>\n",
       "</div>"
      ],
      "text/plain": [
       "                                            combined_name         QI  \\\n",
       "302965   Oh! HIGH PROTEIN NATURE lactose free, sugar free  80.241377   \n",
       "308629             Chiefs - Protein Pudding (Coco-Almond)  75.223594   \n",
       "305227      Crème Chantilly Chocolat La Laitière - Nestlé  15.781390   \n",
       "298443        Nestlé The Dairy Mousse Chantilly Chocolate  14.522616   \n",
       "293938                    MIGROS OH! High protein Erdbeer   1.967678   \n",
       "...                                                   ...        ...   \n",
       "313951  beleaf - Cheesecake alternative Himbeere, Reis...   0.005534   \n",
       "313139             Cornetto - Soft Ice cream (Strawberry)   0.005443   \n",
       "309026           Coop Qualité&Prix - Rahmglace Schokolade   0.000000   \n",
       "313578  Coop Qualité & Prix - Cornet mit Rahmglace Van...   0.000000   \n",
       "312782                           Nestlé Frisco - Winnetou   0.000000   \n",
       "\n",
       "              DI         NB  \n",
       "302965  0.416987  62.349128  \n",
       "308629  1.070352  61.913073  \n",
       "305227  0.939142  60.357962  \n",
       "298443  1.234776  54.332210  \n",
       "293938  0.479754  76.842593  \n",
       "...          ...        ...  \n",
       "313951  1.024429   0.553360  \n",
       "313139  0.251087   0.544329  \n",
       "309026  0.000000   0.000000  \n",
       "313578  0.804755   0.000000  \n",
       "312782  0.651381   0.000000  \n",
       "\n",
       "[394 rows x 4 columns]"
      ]
     },
     "execution_count": 4,
     "metadata": {},
     "output_type": "execute_result"
    }
   ],
   "source": [
    "df_cream_based_foods = df_food_scaled[df_food_scaled['food_group'] == 'cream_based_foods']\n",
    "df_cream_based_foods.drop_duplicates('combined_name')[['combined_name', 'QI', 'DI', 'NB']].sort_values('QI', ascending=False)"
   ]
  },
  {
   "cell_type": "code",
   "execution_count": 5,
   "metadata": {},
   "outputs": [],
   "source": [
    "high_qi_cream_based_foods = df_cream_based_foods[df_cream_based_foods['QI'] > 2].drop_duplicates('combined_name').sort_values('QI', ascending=False)"
   ]
  },
  {
   "cell_type": "code",
   "execution_count": 6,
   "metadata": {},
   "outputs": [
    {
     "data": {
      "text/html": [
       "<div>\n",
       "<style scoped>\n",
       "    .dataframe tbody tr th:only-of-type {\n",
       "        vertical-align: middle;\n",
       "    }\n",
       "\n",
       "    .dataframe tbody tr th {\n",
       "        vertical-align: top;\n",
       "    }\n",
       "\n",
       "    .dataframe thead th {\n",
       "        text-align: right;\n",
       "    }\n",
       "</style>\n",
       "<table border=\"1\" class=\"dataframe\">\n",
       "  <thead>\n",
       "    <tr style=\"text-align: right;\">\n",
       "      <th></th>\n",
       "      <th>combined_name</th>\n",
       "      <th>eaten_quantity</th>\n",
       "      <th>QI</th>\n",
       "      <th>DI</th>\n",
       "      <th>NB</th>\n",
       "    </tr>\n",
       "  </thead>\n",
       "  <tbody>\n",
       "    <tr>\n",
       "      <th>302965</th>\n",
       "      <td>Oh! HIGH PROTEIN NATURE lactose free, sugar free</td>\n",
       "      <td>150.0</td>\n",
       "      <td>80.241377</td>\n",
       "      <td>0.416987</td>\n",
       "      <td>62.349128</td>\n",
       "    </tr>\n",
       "    <tr>\n",
       "      <th>308629</th>\n",
       "      <td>Chiefs - Protein Pudding (Coco-Almond)</td>\n",
       "      <td>80.0</td>\n",
       "      <td>75.223594</td>\n",
       "      <td>1.070352</td>\n",
       "      <td>61.913073</td>\n",
       "    </tr>\n",
       "    <tr>\n",
       "      <th>305227</th>\n",
       "      <td>Crème Chantilly Chocolat La Laitière - Nestlé</td>\n",
       "      <td>90.0</td>\n",
       "      <td>15.781390</td>\n",
       "      <td>0.939142</td>\n",
       "      <td>60.357962</td>\n",
       "    </tr>\n",
       "    <tr>\n",
       "      <th>298443</th>\n",
       "      <td>Nestlé The Dairy Mousse Chantilly Chocolate</td>\n",
       "      <td>90.0</td>\n",
       "      <td>14.522616</td>\n",
       "      <td>1.234776</td>\n",
       "      <td>54.332210</td>\n",
       "    </tr>\n",
       "  </tbody>\n",
       "</table>\n",
       "</div>"
      ],
      "text/plain": [
       "                                           combined_name  eaten_quantity  \\\n",
       "302965  Oh! HIGH PROTEIN NATURE lactose free, sugar free           150.0   \n",
       "308629            Chiefs - Protein Pudding (Coco-Almond)            80.0   \n",
       "305227     Crème Chantilly Chocolat La Laitière - Nestlé            90.0   \n",
       "298443       Nestlé The Dairy Mousse Chantilly Chocolate            90.0   \n",
       "\n",
       "               QI        DI         NB  \n",
       "302965  80.241377  0.416987  62.349128  \n",
       "308629  75.223594  1.070352  61.913073  \n",
       "305227  15.781390  0.939142  60.357962  \n",
       "298443  14.522616  1.234776  54.332210  "
      ]
     },
     "execution_count": 6,
     "metadata": {},
     "output_type": "execute_result"
    }
   ],
   "source": [
    "high_qi_cream_based_foods[['combined_name', 'eaten_quantity', 'QI', 'DI', 'NB']]"
   ]
  },
  {
   "cell_type": "code",
   "execution_count": 7,
   "metadata": {},
   "outputs": [
    {
     "data": {
      "text/plain": [
       "vitamin_e_activity_eaten_ratio_scaled                       -0.995901\n",
       "beta_carotene_eaten_ratio_scaled                            -0.995901\n",
       "iron_eaten_ratio_scaled                                     -0.995741\n",
       "sodium_eaten_ratio_scaled                                   -0.994947\n",
       "magnesium_eaten_ratio_scaled                                -0.967145\n",
       "potassium_eaten_ratio_scaled                                -0.914494\n",
       "sugar_eaten_ratio_scaled                                    -0.875409\n",
       "salt_eaten_ratio_scaled                                     -0.587960\n",
       "fiber_eaten_ratio_scaled                                    -0.564773\n",
       "fat_eaten_ratio_scaled                                      -0.560305\n",
       "fatty_acids_saturated_eaten_ratio_scaled                    -0.528310\n",
       "vitamin_b6_eaten_ratio_scaled                                0.505680\n",
       "protein_eaten_ratio_scaled                                   0.766273\n",
       "zinc_eaten_ratio_scaled                                      0.998801\n",
       "pantothenic_acid_eaten_ratio_scaled                          0.998925\n",
       "vitamin_b1_eaten_ratio_scaled                                0.999809\n",
       "phosphorus_eaten_ratio_scaled                                0.999862\n",
       "vitamin_b12_eaten_ratio_scaled                               0.999871\n",
       "niacin_eaten_ratio_scaled                                    0.999893\n",
       "calcium_eaten_ratio_scaled                                   0.999913\n",
       "cholesterol_eaten_ratio_scaled                               0.999957\n",
       "vitamin_b2_eaten_ratio_scaled                                0.999968\n",
       "folate_eaten_ratio_scaled                                    0.999990\n",
       "QI                                                           1.000000\n",
       "all_trans_retinol_equivalents_activity_eaten_ratio_scaled         NaN\n",
       "vitamin_c_eaten_ratio_scaled                                      NaN\n",
       "vitamin_d_eaten_ratio_scaled                                      NaN\n",
       "Name: QI, dtype: float64"
      ]
     },
     "execution_count": 7,
     "metadata": {},
     "output_type": "execute_result"
    }
   ],
   "source": [
    "ratio_cols = [i for i in high_qi_cream_based_foods.columns if '_ratio_scaled' in i]\n",
    "\n",
    "df_corr = high_qi_cream_based_foods[ratio_cols + ['QI']]\n",
    "corr = df_corr.corr()['QI']\n",
    "corr.sort_values(ascending=True)"
   ]
  },
  {
   "cell_type": "code",
   "execution_count": 8,
   "metadata": {},
   "outputs": [],
   "source": [
    "def interactive_exclude_nutrient(nutrient):\n",
    "    clear_output(wait=True)\n",
    "    df_plot = compare_qi_excluding_nutrient(\n",
    "        df=high_qi_cream_based_foods, \n",
    "        nutrient_to_exclude=nutrient,\n",
    "        qualifying_nutrients=qualifying_nutrients, \n",
    "        scaling_factor=2000\n",
    "    )\n",
    "\n",
    "    display(df_plot[['combined_name', 'QI', f\"QI_excl_{nutrient}\", 'QI_diff', 'QI_pct_change']])\n",
    "\n",
    "    print(f\"\\nExcluding {nutrient} for NB:\")\n",
    "    df_nb = compare_nb_excluding_nutrient(\n",
    "        df=high_qi_cream_based_foods, \n",
    "        nutrient_to_exclude=nutrient,\n",
    "        qualifying_nutrients=qualifying_nutrients, \n",
    "        scaling_factor=2000\n",
    "    )\n",
    "    display(df_nb[['combined_name', 'NB', f\"NB_excl_{nutrient}\", 'NB_diff', 'NB_pct_change']])\n",
    "\n",
    "nutrient_choice = ['folate_eaten', \n",
    "                   'niacin_eaten', \n",
    "                   'pantothenic_acid_eaten', \n",
    "                   'vitamin_b2_eaten', \n",
    "                   'vitamin_b1_eaten', \n",
    "                   'all_trans_retinol_equivalents_activity_eaten', \n",
    "                   'beta_carotene_eaten', \n",
    "                   'vitamin_b12_eaten', \n",
    "                   'vitamin_b6_eaten', \n",
    "                   'vitamin_c_eaten', \n",
    "                   'vitamin_d_eaten', \n",
    "                   'vitamin_e_activity_eaten', \n",
    "                   'calcium_eaten', \n",
    "                   'iron_eaten', \n",
    "                   'magnesium_eaten', \n",
    "                   'phosphorus_eaten', \n",
    "                   'potassium_eaten', \n",
    "                   'zinc_eaten', \n",
    "                   'fiber_eaten', \n",
    "                   'protein_eaten']"
   ]
  },
  {
   "cell_type": "code",
   "execution_count": 9,
   "metadata": {},
   "outputs": [
    {
     "data": {
      "application/vnd.jupyter.widget-view+json": {
       "model_id": "3ce95831514a4f4581b91b21f2f26e35",
       "version_major": 2,
       "version_minor": 0
      },
      "text/plain": [
       "interactive(children=(Dropdown(description='Exclude:', options=('folate_eaten', 'niacin_eaten', 'pantothenic_a…"
      ]
     },
     "metadata": {},
     "output_type": "display_data"
    },
    {
     "data": {
      "text/plain": [
       "<function __main__.interactive_exclude_nutrient(nutrient)>"
      ]
     },
     "execution_count": 9,
     "metadata": {},
     "output_type": "execute_result"
    }
   ],
   "source": [
    "interact(interactive_exclude_nutrient, nutrient=widgets.Dropdown(options=nutrient_choice, description='Exclude:'))"
   ]
  },
  {
   "cell_type": "code",
   "execution_count": null,
   "metadata": {},
   "outputs": [],
   "source": []
  },
  {
   "cell_type": "markdown",
   "metadata": {},
   "source": [
    "- vitamin b1\n",
    "- vitamin b6"
   ]
  },
  {
   "cell_type": "code",
   "execution_count": 10,
   "metadata": {},
   "outputs": [
    {
     "name": "stdout",
     "output_type": "stream",
     "text": [
      "Food item : Oh! HIGH PROTEIN NATURE lactose free, sugar free\n",
      "QI (incl. all): 64.29317827973239\n",
      "QI (excl. vitamin_b1_eaten, vitamin_b6_eaten): 1.8794301256846\n",
      "NB (incl. all): 57.98\n",
      "NB (excl. vitamin_b1_eaten, vitamin_b6_eaten): 54.33\n",
      "-----------\n",
      "Food item : Chiefs - Protein Pudding (Coco-Almond)\n",
      "QI (incl. all): 60.43575989546315\n",
      "QI (excl. vitamin_b1_eaten, vitamin_b6_eaten): 1.7215809178543484\n",
      "NB (incl. all): 64.09\n",
      "NB (excl. vitamin_b1_eaten, vitamin_b6_eaten): 60.97\n",
      "-----------\n",
      "Food item : Crème Chantilly Chocolat La Laitière - Nestlé\n",
      "QI (incl. all): 12.840347152919595\n",
      "QI (excl. vitamin_b1_eaten, vitamin_b6_eaten): 0.9385044304309975\n",
      "NB (incl. all): 61.99\n",
      "NB (excl. vitamin_b1_eaten, vitamin_b6_eaten): 61.82\n",
      "-----------\n",
      "Food item : Nestlé The Dairy Mousse Chantilly Chocolate\n",
      "QI (incl. all): 11.905061970574994\n",
      "QI (excl. vitamin_b1_eaten, vitamin_b6_eaten): 0.9233050747824412\n",
      "NB (incl. all): 58.21\n",
      "NB (excl. vitamin_b1_eaten, vitamin_b6_eaten): 57.81\n",
      "-----------\n"
     ]
    }
   ],
   "source": [
    "exclude_list = ['vitamin_b1_eaten', 'vitamin_b6_eaten']\n",
    "qualifying_nutrients = list(nutrient_info.keys())\n",
    "\n",
    "for idx, row in high_qi_cream_based_foods.iterrows():\n",
    "\n",
    "    qi_incl = compute_qi_excluding_multiple(row, qualifying_nutrients, exclude_list=[])\n",
    "    qi_excl = compute_qi_excluding_multiple(row, qualifying_nutrients, exclude_list=exclude_list)\n",
    "\n",
    "    nb_incl = compute_nb_excluding_multiple(row, qualifying_nutrients, exclude_list=[]) \n",
    "    nb_excl = compute_nb_excluding_multiple(row, qualifying_nutrients, exclude_list=exclude_list)\n",
    "\n",
    "    print(f\"Food item : {row['combined_name']}\")\n",
    "    print(f\"QI (incl. all): {qi_incl}\")\n",
    "    print(f\"QI (excl. {', '.join(exclude_list)}): {qi_excl}\")\n",
    "    print(f\"NB (incl. all): {nb_incl:.2f}\")\n",
    "    print(f\"NB (excl. {', '.join(exclude_list)}): {nb_excl:.2f}\")\n",
    "    print(\"-----------\")"
   ]
  },
  {
   "cell_type": "code",
   "execution_count": null,
   "metadata": {},
   "outputs": [],
   "source": []
  }
 ],
 "metadata": {
  "kernelspec": {
   "display_name": "Nutrient_Bachelor_Project",
   "language": "python",
   "name": "python3"
  },
  "language_info": {
   "codemirror_mode": {
    "name": "ipython",
    "version": 3
   },
   "file_extension": ".py",
   "mimetype": "text/x-python",
   "name": "python",
   "nbconvert_exporter": "python",
   "pygments_lexer": "ipython3",
   "version": "3.11.11"
  }
 },
 "nbformat": 4,
 "nbformat_minor": 2
}

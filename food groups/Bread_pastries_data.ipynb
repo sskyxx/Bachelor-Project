{
 "cells": [
  {
   "cell_type": "code",
   "execution_count": 10,
   "metadata": {},
   "outputs": [],
   "source": [
    "from itertools import combinations\n",
    "from ipywidgets import interact\n",
    "import ipywidgets as widgets\n",
    "from IPython.display import clear_output, display\n",
    "import sys\n",
    "sys.path.append('../scripts') \n",
    "from functions import *\n",
    "from config import nutrient_info, conversion_factors"
   ]
  },
  {
   "cell_type": "code",
   "execution_count": 11,
   "metadata": {},
   "outputs": [
    {
     "name": "stderr",
     "output_type": "stream",
     "text": [
      "C:\\Users\\Sophie\\AppData\\Local\\Temp\\ipykernel_15168\\2711278687.py:1: DtypeWarning: Columns (1,16) have mixed types. Specify dtype option on import or set low_memory=False.\n",
      "  df_food_scaled = pd.read_csv('../data/df_food_scaled.csv')\n"
     ]
    }
   ],
   "source": [
    "df_food_scaled = pd.read_csv('../data/df_food_scaled.csv')"
   ]
  },
  {
   "cell_type": "code",
   "execution_count": 12,
   "metadata": {},
   "outputs": [],
   "source": [
    "qualifying_nutrients = {nutr: info for nutr, info in nutrient_info.items() if info['type'] == 'qualifying'}\n",
    "disqualifying_nutrients = {nutr: info for nutr, info in nutrient_info.items() if info['type'] == 'disqualifying'}"
   ]
  },
  {
   "cell_type": "code",
   "execution_count": 13,
   "metadata": {},
   "outputs": [
    {
     "data": {
      "text/html": [
       "<div>\n",
       "<style scoped>\n",
       "    .dataframe tbody tr th:only-of-type {\n",
       "        vertical-align: middle;\n",
       "    }\n",
       "\n",
       "    .dataframe tbody tr th {\n",
       "        vertical-align: top;\n",
       "    }\n",
       "\n",
       "    .dataframe thead th {\n",
       "        text-align: right;\n",
       "    }\n",
       "</style>\n",
       "<table border=\"1\" class=\"dataframe\">\n",
       "  <thead>\n",
       "    <tr style=\"text-align: right;\">\n",
       "      <th></th>\n",
       "      <th>combined_name</th>\n",
       "      <th>QI</th>\n",
       "      <th>DI</th>\n",
       "      <th>NB</th>\n",
       "    </tr>\n",
       "  </thead>\n",
       "  <tbody>\n",
       "    <tr>\n",
       "      <th>283251</th>\n",
       "      <td>Migros Baguette</td>\n",
       "      <td>36.236199</td>\n",
       "      <td>0.834880</td>\n",
       "      <td>49.914477</td>\n",
       "    </tr>\n",
       "    <tr>\n",
       "      <th>294750</th>\n",
       "      <td>Schär Pain Campagnard gluten-free WHEAT-FREE L...</td>\n",
       "      <td>36.104429</td>\n",
       "      <td>0.849150</td>\n",
       "      <td>51.251474</td>\n",
       "    </tr>\n",
       "    <tr>\n",
       "      <th>285797</th>\n",
       "      <td>Schär Meisterbäckers</td>\n",
       "      <td>34.620562</td>\n",
       "      <td>0.758124</td>\n",
       "      <td>50.362291</td>\n",
       "    </tr>\n",
       "    <tr>\n",
       "      <th>271276</th>\n",
       "      <td>Gluten-free bread</td>\n",
       "      <td>31.682763</td>\n",
       "      <td>0.527422</td>\n",
       "      <td>47.912963</td>\n",
       "    </tr>\n",
       "    <tr>\n",
       "      <th>284903</th>\n",
       "      <td>Schär Meisterbäckers Vital</td>\n",
       "      <td>31.612550</td>\n",
       "      <td>0.784880</td>\n",
       "      <td>49.404500</td>\n",
       "    </tr>\n",
       "    <tr>\n",
       "      <th>...</th>\n",
       "      <td>...</td>\n",
       "      <td>...</td>\n",
       "      <td>...</td>\n",
       "      <td>...</td>\n",
       "    </tr>\n",
       "    <tr>\n",
       "      <th>276341</th>\n",
       "      <td>Bun raisins</td>\n",
       "      <td>0.036254</td>\n",
       "      <td>0.142020</td>\n",
       "      <td>3.625378</td>\n",
       "    </tr>\n",
       "    <tr>\n",
       "      <th>190890</th>\n",
       "      <td>Almond croissant</td>\n",
       "      <td>0.035276</td>\n",
       "      <td>0.216709</td>\n",
       "      <td>3.527648</td>\n",
       "    </tr>\n",
       "    <tr>\n",
       "      <th>309555</th>\n",
       "      <td>Coop Qualité &amp; Prix - Weiss</td>\n",
       "      <td>0.022450</td>\n",
       "      <td>1.146663</td>\n",
       "      <td>2.245005</td>\n",
       "    </tr>\n",
       "    <tr>\n",
       "      <th>188766</th>\n",
       "      <td>Churros</td>\n",
       "      <td>0.019833</td>\n",
       "      <td>0.438044</td>\n",
       "      <td>1.983270</td>\n",
       "    </tr>\n",
       "    <tr>\n",
       "      <th>312774</th>\n",
       "      <td>Ramseier - Sauerteigbrot</td>\n",
       "      <td>0.000000</td>\n",
       "      <td>0.310719</td>\n",
       "      <td>0.000000</td>\n",
       "    </tr>\n",
       "  </tbody>\n",
       "</table>\n",
       "<p>547 rows × 4 columns</p>\n",
       "</div>"
      ],
      "text/plain": [
       "                                            combined_name         QI  \\\n",
       "283251                                    Migros Baguette  36.236199   \n",
       "294750  Schär Pain Campagnard gluten-free WHEAT-FREE L...  36.104429   \n",
       "285797                               Schär Meisterbäckers  34.620562   \n",
       "271276                                  Gluten-free bread  31.682763   \n",
       "284903                         Schär Meisterbäckers Vital  31.612550   \n",
       "...                                                   ...        ...   \n",
       "276341                                        Bun raisins   0.036254   \n",
       "190890                                   Almond croissant   0.035276   \n",
       "309555                        Coop Qualité & Prix - Weiss   0.022450   \n",
       "188766                                            Churros   0.019833   \n",
       "312774                           Ramseier - Sauerteigbrot   0.000000   \n",
       "\n",
       "              DI         NB  \n",
       "283251  0.834880  49.914477  \n",
       "294750  0.849150  51.251474  \n",
       "285797  0.758124  50.362291  \n",
       "271276  0.527422  47.912963  \n",
       "284903  0.784880  49.404500  \n",
       "...          ...        ...  \n",
       "276341  0.142020   3.625378  \n",
       "190890  0.216709   3.527648  \n",
       "309555  1.146663   2.245005  \n",
       "188766  0.438044   1.983270  \n",
       "312774  0.310719   0.000000  \n",
       "\n",
       "[547 rows x 4 columns]"
      ]
     },
     "execution_count": 13,
     "metadata": {},
     "output_type": "execute_result"
    }
   ],
   "source": [
    "df_bread_pastries = df_food_scaled[df_food_scaled['food_group'] == 'bread_pastries']\n",
    "df_bread_pastries.drop_duplicates('combined_name')[['combined_name', 'QI', 'DI', 'NB']].sort_values('QI', ascending=False)"
   ]
  },
  {
   "cell_type": "code",
   "execution_count": 14,
   "metadata": {},
   "outputs": [],
   "source": [
    "high_qi_bread_pastries = df_bread_pastries[df_bread_pastries['QI'] > 2].drop_duplicates('combined_name').sort_values('QI', ascending=False)"
   ]
  },
  {
   "cell_type": "code",
   "execution_count": 15,
   "metadata": {},
   "outputs": [
    {
     "data": {
      "text/html": [
       "<div>\n",
       "<style scoped>\n",
       "    .dataframe tbody tr th:only-of-type {\n",
       "        vertical-align: middle;\n",
       "    }\n",
       "\n",
       "    .dataframe tbody tr th {\n",
       "        vertical-align: top;\n",
       "    }\n",
       "\n",
       "    .dataframe thead th {\n",
       "        text-align: right;\n",
       "    }\n",
       "</style>\n",
       "<table border=\"1\" class=\"dataframe\">\n",
       "  <thead>\n",
       "    <tr style=\"text-align: right;\">\n",
       "      <th></th>\n",
       "      <th>combined_name</th>\n",
       "      <th>eaten_quantity</th>\n",
       "      <th>QI</th>\n",
       "      <th>DI</th>\n",
       "      <th>NB</th>\n",
       "    </tr>\n",
       "  </thead>\n",
       "  <tbody>\n",
       "    <tr>\n",
       "      <th>283251</th>\n",
       "      <td>Migros Baguette</td>\n",
       "      <td>110.0</td>\n",
       "      <td>36.236199</td>\n",
       "      <td>0.834880</td>\n",
       "      <td>49.914477</td>\n",
       "    </tr>\n",
       "    <tr>\n",
       "      <th>294750</th>\n",
       "      <td>Schär Pain Campagnard gluten-free WHEAT-FREE L...</td>\n",
       "      <td>110.0</td>\n",
       "      <td>36.104429</td>\n",
       "      <td>0.849150</td>\n",
       "      <td>51.251474</td>\n",
       "    </tr>\n",
       "    <tr>\n",
       "      <th>285797</th>\n",
       "      <td>Schär Meisterbäckers</td>\n",
       "      <td>110.0</td>\n",
       "      <td>34.620562</td>\n",
       "      <td>0.758124</td>\n",
       "      <td>50.362291</td>\n",
       "    </tr>\n",
       "    <tr>\n",
       "      <th>271276</th>\n",
       "      <td>Gluten-free bread</td>\n",
       "      <td>50.0</td>\n",
       "      <td>31.682763</td>\n",
       "      <td>0.527422</td>\n",
       "      <td>47.912963</td>\n",
       "    </tr>\n",
       "    <tr>\n",
       "      <th>284903</th>\n",
       "      <td>Schär Meisterbäckers Vital</td>\n",
       "      <td>50.0</td>\n",
       "      <td>31.612550</td>\n",
       "      <td>0.784880</td>\n",
       "      <td>49.404500</td>\n",
       "    </tr>\n",
       "    <tr>\n",
       "      <th>313779</th>\n",
       "      <td>M Classic - Bun Di</td>\n",
       "      <td>250.0</td>\n",
       "      <td>4.798419</td>\n",
       "      <td>0.589957</td>\n",
       "      <td>44.528986</td>\n",
       "    </tr>\n",
       "  </tbody>\n",
       "</table>\n",
       "</div>"
      ],
      "text/plain": [
       "                                            combined_name  eaten_quantity  \\\n",
       "283251                                    Migros Baguette           110.0   \n",
       "294750  Schär Pain Campagnard gluten-free WHEAT-FREE L...           110.0   \n",
       "285797                               Schär Meisterbäckers           110.0   \n",
       "271276                                  Gluten-free bread            50.0   \n",
       "284903                         Schär Meisterbäckers Vital            50.0   \n",
       "313779                                 M Classic - Bun Di           250.0   \n",
       "\n",
       "               QI        DI         NB  \n",
       "283251  36.236199  0.834880  49.914477  \n",
       "294750  36.104429  0.849150  51.251474  \n",
       "285797  34.620562  0.758124  50.362291  \n",
       "271276  31.682763  0.527422  47.912963  \n",
       "284903  31.612550  0.784880  49.404500  \n",
       "313779   4.798419  0.589957  44.528986  "
      ]
     },
     "execution_count": 15,
     "metadata": {},
     "output_type": "execute_result"
    }
   ],
   "source": [
    "high_qi_bread_pastries[['combined_name', 'eaten_quantity', 'QI', 'DI', 'NB']]"
   ]
  },
  {
   "cell_type": "code",
   "execution_count": 16,
   "metadata": {},
   "outputs": [
    {
     "data": {
      "text/plain": [
       "niacin_eaten_ratio_scaled                                   -0.985530\n",
       "folate_eaten_ratio_scaled                                   -0.984752\n",
       "sugar_eaten_ratio_scaled                                    -0.984631\n",
       "pantothenic_acid_eaten_ratio_scaled                         -0.984508\n",
       "fiber_eaten_ratio_scaled                                    -0.972355\n",
       "vitamin_c_eaten_ratio_scaled                                -0.971705\n",
       "protein_eaten_ratio_scaled                                  -0.711251\n",
       "fat_eaten_ratio_scaled                                      -0.270950\n",
       "salt_eaten_ratio_scaled                                      0.657810\n",
       "fatty_acids_saturated_eaten_ratio_scaled                     0.670151\n",
       "calcium_eaten_ratio_scaled                                   0.999754\n",
       "sodium_eaten_ratio_scaled                                    0.999754\n",
       "zinc_eaten_ratio_scaled                                      0.999754\n",
       "iron_eaten_ratio_scaled                                      0.999754\n",
       "vitamin_e_activity_eaten_ratio_scaled                        0.999754\n",
       "vitamin_b2_eaten_ratio_scaled                                0.999754\n",
       "potassium_eaten_ratio_scaled                                 0.999754\n",
       "phosphorus_eaten_ratio_scaled                                0.999754\n",
       "magnesium_eaten_ratio_scaled                                 0.999754\n",
       "cholesterol_eaten_ratio_scaled                               0.999754\n",
       "beta_carotene_eaten_ratio_scaled                             0.999754\n",
       "vitamin_b1_eaten_ratio_scaled                                0.999882\n",
       "vitamin_b12_eaten_ratio_scaled                               0.999933\n",
       "vitamin_b6_eaten_ratio_scaled                                0.999955\n",
       "QI                                                           1.000000\n",
       "all_trans_retinol_equivalents_activity_eaten_ratio_scaled         NaN\n",
       "vitamin_d_eaten_ratio_scaled                                      NaN\n",
       "Name: QI, dtype: float64"
      ]
     },
     "execution_count": 16,
     "metadata": {},
     "output_type": "execute_result"
    }
   ],
   "source": [
    "ratio_cols = [i for i in high_qi_bread_pastries.columns if '_ratio_scaled' in i]\n",
    "\n",
    "df_corr = high_qi_bread_pastries[ratio_cols + ['QI']]\n",
    "corr = df_corr.corr()['QI']\n",
    "corr.sort_values(ascending=True)"
   ]
  },
  {
   "cell_type": "code",
   "execution_count": 17,
   "metadata": {},
   "outputs": [],
   "source": [
    "def interactive_exclude_nutrient(nutrient):\n",
    "    clear_output(wait=True)\n",
    "    df_plot = compare_qi_excluding_nutrient(\n",
    "        df=high_qi_bread_pastries, \n",
    "        nutrient_to_exclude=nutrient,\n",
    "        qualifying_nutrients=qualifying_nutrients, \n",
    "        scaling_factor=2000\n",
    "    )\n",
    "\n",
    "    display(df_plot[['combined_name', 'QI', f\"QI_excl_{nutrient}\", 'QI_diff', 'QI_pct_change']])\n",
    "\n",
    "    print(f\"\\nExcluding {nutrient} for NB:\")\n",
    "    df_nb = compare_nb_excluding_nutrient(\n",
    "        df=high_qi_bread_pastries, \n",
    "        nutrient_to_exclude=nutrient,\n",
    "        qualifying_nutrients=qualifying_nutrients, \n",
    "        scaling_factor=2000\n",
    "    )\n",
    "    display(df_nb[['combined_name', 'NB', f\"NB_excl_{nutrient}\", 'NB_diff', 'NB_pct_change']])\n",
    "\n",
    "nutrient_choice = ['folate_eaten', \n",
    "                   'niacin_eaten', \n",
    "                   'pantothenic_acid_eaten', \n",
    "                   'vitamin_b2_eaten', \n",
    "                   'vitamin_b1_eaten', \n",
    "                   'all_trans_retinol_equivalents_activity_eaten', \n",
    "                   'beta_carotene_eaten', \n",
    "                   'vitamin_b12_eaten', \n",
    "                   'vitamin_b6_eaten', \n",
    "                   'vitamin_c_eaten', \n",
    "                   'vitamin_d_eaten', \n",
    "                   'vitamin_e_activity_eaten', \n",
    "                   'calcium_eaten', \n",
    "                   'iron_eaten', \n",
    "                   'magnesium_eaten', \n",
    "                   'phosphorus_eaten', \n",
    "                   'potassium_eaten', \n",
    "                   'zinc_eaten', \n",
    "                   'fiber_eaten', \n",
    "                   'protein_eaten']"
   ]
  },
  {
   "cell_type": "code",
   "execution_count": 18,
   "metadata": {},
   "outputs": [
    {
     "data": {
      "application/vnd.jupyter.widget-view+json": {
       "model_id": "f9b4e9f17a544705be05e7fb4d6b6602",
       "version_major": 2,
       "version_minor": 0
      },
      "text/plain": [
       "interactive(children=(Dropdown(description='Exclude:', options=('folate_eaten', 'niacin_eaten', 'pantothenic_a…"
      ]
     },
     "metadata": {},
     "output_type": "display_data"
    },
    {
     "data": {
      "text/plain": [
       "<function __main__.interactive_exclude_nutrient(nutrient)>"
      ]
     },
     "execution_count": 18,
     "metadata": {},
     "output_type": "execute_result"
    }
   ],
   "source": [
    "interact(interactive_exclude_nutrient, nutrient=widgets.Dropdown(options=nutrient_choice, description='Exclude:'))"
   ]
  },
  {
   "cell_type": "markdown",
   "metadata": {},
   "source": [
    "- vitamin b1\n",
    "- vitamin b12\n",
    "- vitamin b6"
   ]
  },
  {
   "cell_type": "code",
   "execution_count": 19,
   "metadata": {},
   "outputs": [
    {
     "name": "stdout",
     "output_type": "stream",
     "text": [
      "Food item : Migros Baguette\n",
      "QI (incl. all): 29.18552087057083\n",
      "QI (excl. vitamin_b1_eaten, vitamin_b6_eaten, vitamin_b12_eaten): 0.7434736511261102\n",
      "NB (incl. all): 49.69\n",
      "NB (excl. vitamin_b1_eaten, vitamin_b6_eaten, vitamin_b12_eaten): 42.83\n",
      "-----------\n",
      "Food item : Schär Pain Campagnard gluten-free WHEAT-FREE LACTOSE-FREE\n",
      "QI (incl. all): 29.08354615513947\n",
      "QI (excl. vitamin_b1_eaten, vitamin_b6_eaten, vitamin_b12_eaten): 0.7691736026137956\n",
      "NB (incl. all): 52.35\n",
      "NB (excl. vitamin_b1_eaten, vitamin_b6_eaten, vitamin_b12_eaten): 45.85\n",
      "-----------\n",
      "Food item : Schär Meisterbäckers\n",
      "QI (incl. all): 27.87476476214078\n",
      "QI (excl. vitamin_b1_eaten, vitamin_b6_eaten, vitamin_b12_eaten): 0.7461989968782841\n",
      "NB (incl. all): 51.84\n",
      "NB (excl. vitamin_b1_eaten, vitamin_b6_eaten, vitamin_b12_eaten): 45.27\n",
      "-----------\n",
      "Food item : Gluten-free bread\n",
      "QI (incl. all): 25.46946391684589\n",
      "QI (excl. vitamin_b1_eaten, vitamin_b6_eaten, vitamin_b12_eaten): 0.6200012067597128\n",
      "NB (incl. all): 46.69\n",
      "NB (excl. vitamin_b1_eaten, vitamin_b6_eaten, vitamin_b12_eaten): 39.42\n",
      "-----------\n",
      "Food item : Schär Meisterbäckers Vital\n",
      "QI (incl. all): 25.475096076296538\n",
      "QI (excl. vitamin_b1_eaten, vitamin_b6_eaten, vitamin_b12_eaten): 0.7345028056101954\n",
      "NB (incl. all): 53.00\n",
      "NB (excl. vitamin_b1_eaten, vitamin_b6_eaten, vitamin_b12_eaten): 46.59\n",
      "-----------\n",
      "Food item : M Classic - Bun Di\n",
      "QI (incl. all): 3.9803246801507663\n",
      "QI (excl. vitamin_b1_eaten, vitamin_b6_eaten, vitamin_b12_eaten): 2.677719382067208\n",
      "NB (incl. all): 42.32\n",
      "NB (excl. vitamin_b1_eaten, vitamin_b6_eaten, vitamin_b12_eaten): 34.45\n",
      "-----------\n"
     ]
    }
   ],
   "source": [
    "exclude_list = ['vitamin_b1_eaten', 'vitamin_b6_eaten', 'vitamin_b12_eaten']\n",
    "qualifying_nutrients = list(nutrient_info.keys())\n",
    "\n",
    "for idx, row in high_qi_bread_pastries.iterrows():\n",
    "\n",
    "    qi_incl = compute_qi_excluding_multiple(row, qualifying_nutrients, exclude_list=[])\n",
    "    qi_excl = compute_qi_excluding_multiple(row, qualifying_nutrients, exclude_list=exclude_list)\n",
    "\n",
    "    nb_incl = compute_nb_excluding_multiple(row, qualifying_nutrients, exclude_list=[]) \n",
    "    nb_excl = compute_nb_excluding_multiple(row, qualifying_nutrients, exclude_list=exclude_list)\n",
    "\n",
    "    print(f\"Food item : {row['combined_name']}\")\n",
    "    print(f\"QI (incl. all): {qi_incl}\")\n",
    "    print(f\"QI (excl. {', '.join(exclude_list)}): {qi_excl}\")\n",
    "    print(f\"NB (incl. all): {nb_incl:.2f}\")\n",
    "    print(f\"NB (excl. {', '.join(exclude_list)}): {nb_excl:.2f}\")\n",
    "    print(\"-----------\")"
   ]
  },
  {
   "cell_type": "code",
   "execution_count": null,
   "metadata": {},
   "outputs": [],
   "source": []
  }
 ],
 "metadata": {
  "kernelspec": {
   "display_name": "Nutrient_Bachelor_Project",
   "language": "python",
   "name": "python3"
  },
  "language_info": {
   "codemirror_mode": {
    "name": "ipython",
    "version": 3
   },
   "file_extension": ".py",
   "mimetype": "text/x-python",
   "name": "python",
   "nbconvert_exporter": "python",
   "pygments_lexer": "ipython3",
   "version": "3.11.11"
  }
 },
 "nbformat": 4,
 "nbformat_minor": 2
}

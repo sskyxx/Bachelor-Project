{
 "cells": [
  {
   "cell_type": "code",
   "execution_count": 6,
   "id": "4d5281fb",
   "metadata": {},
   "outputs": [],
   "source": [
    "import numpy as np \n",
    "import pandas as pd\n",
    "import matplotlib.pyplot as plt\n",
    "import seaborn as sns\n",
    "from adjustText import adjust_text\n",
    "from matplotlib.patches import Circle\n",
    "import os\n",
    "import pickle\n",
    "from scipy.stats import mannwhitneyu, ttest_ind, kruskal, f_oneway\n",
    "from statannotations.Annotator import Annotator\n",
    "from itertools import combinations\n",
    "from ipywidgets import interact\n",
    "import ipywidgets as widgets\n",
    "from IPython.display import clear_output, display\n",
    "import sys\n",
    "sys.path.append('../scripts') \n",
    "from functions import *\n",
    "from config import nutrient_info, conversion_factors\n",
    "from matplotlib.patches import Circle"
   ]
  },
  {
   "cell_type": "code",
   "execution_count": 2,
   "id": "bdfe0440",
   "metadata": {},
   "outputs": [],
   "source": [
    "%load_ext autoreload\n",
    "%autoreload 2"
   ]
  },
  {
   "cell_type": "code",
   "execution_count": 9,
   "id": "d7202955",
   "metadata": {},
   "outputs": [
    {
     "name": "stderr",
     "output_type": "stream",
     "text": [
      "C:\\Users\\Sophie\\AppData\\Local\\Temp\\ipykernel_16080\\1967561840.py:1: DtypeWarning: Columns (1,16) have mixed types. Specify dtype option on import or set low_memory=False.\n",
      "  df_food_scaled = pd.read_csv('../data/df_food_scaled.csv')\n",
      "C:\\Users\\Sophie\\AppData\\Local\\Temp\\ipykernel_16080\\1967561840.py:2: DtypeWarning: Columns (1,16) have mixed types. Specify dtype option on import or set low_memory=False.\n",
      "  df_food_clean_outliers = pd.read_csv('../data/df_food_clean_outliers.csv')\n"
     ]
    }
   ],
   "source": [
    "df_food_scaled = pd.read_csv('../data/df_food_scaled.csv')\n",
    "df_food_clean_outliers = pd.read_csv('../data/df_food_clean_outliers.csv')\n",
    "composite_meals = pd.read_csv('../data/composite_meals.csv')"
   ]
  },
  {
   "cell_type": "code",
   "execution_count": 5,
   "id": "4571832e",
   "metadata": {},
   "outputs": [
    {
     "data": {
      "text/html": [
       "<div>\n",
       "<style scoped>\n",
       "    .dataframe tbody tr th:only-of-type {\n",
       "        vertical-align: middle;\n",
       "    }\n",
       "\n",
       "    .dataframe tbody tr th {\n",
       "        vertical-align: top;\n",
       "    }\n",
       "\n",
       "    .dataframe thead th {\n",
       "        text-align: right;\n",
       "    }\n",
       "</style>\n",
       "<table border=\"1\" class=\"dataframe\">\n",
       "  <thead>\n",
       "    <tr style=\"text-align: right;\">\n",
       "      <th></th>\n",
       "      <th>food_id</th>\n",
       "      <th>barcode</th>\n",
       "      <th>dish_id</th>\n",
       "      <th>eaten_quantity</th>\n",
       "      <th>eaten_unit</th>\n",
       "      <th>subject_key</th>\n",
       "      <th>eaten_at</th>\n",
       "      <th>eaten_at_utc_offset</th>\n",
       "      <th>media_count</th>\n",
       "      <th>food_group_cname</th>\n",
       "      <th>...</th>\n",
       "      <th>protein_eaten_ratio_scaled</th>\n",
       "      <th>fat_eaten_ratio_scaled</th>\n",
       "      <th>fatty_acids_saturated_eaten_ratio_scaled</th>\n",
       "      <th>cholesterol_eaten_ratio_scaled</th>\n",
       "      <th>sugar_eaten_ratio_scaled</th>\n",
       "      <th>sodium_eaten_ratio_scaled</th>\n",
       "      <th>salt_eaten_ratio_scaled</th>\n",
       "      <th>QI</th>\n",
       "      <th>DI</th>\n",
       "      <th>NB</th>\n",
       "    </tr>\n",
       "  </thead>\n",
       "  <tbody>\n",
       "  </tbody>\n",
       "</table>\n",
       "<p>0 rows × 150 columns</p>\n",
       "</div>"
      ],
      "text/plain": [
       "Empty DataFrame\n",
       "Columns: [food_id, barcode, dish_id, eaten_quantity, eaten_unit, subject_key, eaten_at, eaten_at_utc_offset, media_count, food_group_cname, type, display_name_en, display_name_fr, display_name_de, fallback_food_id, standard_portion_quantity, standard_portion_unit, specific_gravity, alcohol, all_trans_retinol_equivalents_activity, beta_carotene, beta_carotene_activity, calcium, carbohydrates, chloride, cholesterol, energy_kcal, energy_kj, fat, fatty_acids_monounsaturated, fatty_acids_polyunsaturated, fatty_acids_saturated, fiber, folate, iodide, iron, magnesium, niacin, pantothenic_acid, phosphorus, potassium, protein, salt, sodium, starch, sugar, vitamin_a_activity, vitamin_b1, vitamin_b12, vitamin_b2, vitamin_b6, vitamin_c, vitamin_d, vitamin_e_activity, water, zinc, eaten_quantity_in_gram, energy_kcal_eaten, energy_kj_eaten, carb_eaten, fat_eaten, protein_eaten, fiber_eaten, alcohol_eaten, local_eaten_at, eaten_date, combined_name, all_trans_retinol_equivalents_activity_eaten, beta_carotene_eaten, calcium_eaten, cholesterol_eaten, fatty_acids_monounsaturated_eaten, fatty_acids_polyunsaturated_eaten, fatty_acids_saturated_eaten, folate_eaten, iron_eaten, magnesium_eaten, niacin_eaten, pantothenic_acid_eaten, phosphorus_eaten, potassium_eaten, salt_eaten, sodium_eaten, sugar_eaten, vitamin_b1_eaten, vitamin_b12_eaten, vitamin_b2_eaten, vitamin_b6_eaten, vitamin_c_eaten, vitamin_d_eaten, vitamin_e_activity_eaten, zinc_eaten, start_date, cohort, food_group, folate_eaten_ratio, niacin_eaten_ratio, pantothenic_acid_eaten_ratio, vitamin_b2_eaten_ratio, vitamin_b1_eaten_ratio, ...]\n",
       "Index: []\n",
       "\n",
       "[0 rows x 150 columns]"
      ]
     },
     "execution_count": 5,
     "metadata": {},
     "output_type": "execute_result"
    }
   ],
   "source": [
    "df_food_clean_outliers[df_food_clean_outliers['combined_name'] == 'pizza']"
   ]
  },
  {
   "cell_type": "code",
   "execution_count": null,
   "id": "d7a8073f",
   "metadata": {},
   "outputs": [],
   "source": []
  }
 ],
 "metadata": {
  "kernelspec": {
   "display_name": "Nutrient_Bachelor_Project",
   "language": "python",
   "name": "python3"
  },
  "language_info": {
   "codemirror_mode": {
    "name": "ipython",
    "version": 3
   },
   "file_extension": ".py",
   "mimetype": "text/x-python",
   "name": "python",
   "nbconvert_exporter": "python",
   "pygments_lexer": "ipython3",
   "version": "3.11.11"
  }
 },
 "nbformat": 4,
 "nbformat_minor": 5
}

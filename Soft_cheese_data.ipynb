{
 "cells": [
  {
   "cell_type": "code",
   "execution_count": 1,
   "metadata": {},
   "outputs": [],
   "source": [
    "import numpy as np \n",
    "import pandas as pd\n",
    "import matplotlib.pyplot as plt\n",
    "import seaborn as sns\n",
    "from adjustText import adjust_text\n",
    "from matplotlib.patches import Circle\n",
    "import os\n",
    "import pickle\n",
    "from scipy.stats import mannwhitneyu, ttest_ind, kruskal, f_oneway\n",
    "from statannotations.Annotator import Annotator\n",
    "from itertools import combinations"
   ]
  },
  {
   "cell_type": "code",
   "execution_count": 2,
   "metadata": {},
   "outputs": [
    {
     "name": "stderr",
     "output_type": "stream",
     "text": [
      "C:\\Users\\Sophie\\AppData\\Local\\Temp\\ipykernel_7744\\4074791732.py:1: DtypeWarning: Columns (1,16) have mixed types. Specify dtype option on import or set low_memory=False.\n",
      "  df_food_scaled = pd.read_csv('df_food_scaled.csv')\n"
     ]
    }
   ],
   "source": [
    "df_food_scaled = pd.read_csv('df_food_scaled.csv')"
   ]
  },
  {
   "cell_type": "code",
   "execution_count": 4,
   "metadata": {},
   "outputs": [
    {
     "data": {
      "text/html": [
       "<div>\n",
       "<style scoped>\n",
       "    .dataframe tbody tr th:only-of-type {\n",
       "        vertical-align: middle;\n",
       "    }\n",
       "\n",
       "    .dataframe tbody tr th {\n",
       "        vertical-align: top;\n",
       "    }\n",
       "\n",
       "    .dataframe thead th {\n",
       "        text-align: right;\n",
       "    }\n",
       "</style>\n",
       "<table border=\"1\" class=\"dataframe\">\n",
       "  <thead>\n",
       "    <tr style=\"text-align: right;\">\n",
       "      <th></th>\n",
       "      <th>combined_name</th>\n",
       "      <th>QI</th>\n",
       "      <th>DI</th>\n",
       "      <th>NB</th>\n",
       "    </tr>\n",
       "  </thead>\n",
       "  <tbody>\n",
       "    <tr>\n",
       "      <th>280677</th>\n",
       "      <td>Anna's BEST Berry Pepper Cream Cheese</td>\n",
       "      <td>3.686039</td>\n",
       "      <td>1.484453</td>\n",
       "      <td>46.828978</td>\n",
       "    </tr>\n",
       "    <tr>\n",
       "      <th>290565</th>\n",
       "      <td>Coop Quality &amp; Price - Fresh Goat Cheese</td>\n",
       "      <td>3.216822</td>\n",
       "      <td>2.328800</td>\n",
       "      <td>71.930804</td>\n",
       "    </tr>\n",
       "    <tr>\n",
       "      <th>301582</th>\n",
       "      <td>Oh! High Protein Salatkäse</td>\n",
       "      <td>2.558842</td>\n",
       "      <td>2.429829</td>\n",
       "      <td>65.203152</td>\n",
       "    </tr>\n",
       "    <tr>\n",
       "      <th>296310</th>\n",
       "      <td>La Vache qui rit mix</td>\n",
       "      <td>2.290395</td>\n",
       "      <td>3.025955</td>\n",
       "      <td>64.909402</td>\n",
       "    </tr>\n",
       "    <tr>\n",
       "      <th>284385</th>\n",
       "      <td>Natural white cheese</td>\n",
       "      <td>2.025645</td>\n",
       "      <td>1.656628</td>\n",
       "      <td>62.317374</td>\n",
       "    </tr>\n",
       "    <tr>\n",
       "      <th>...</th>\n",
       "      <td>...</td>\n",
       "      <td>...</td>\n",
       "      <td>...</td>\n",
       "      <td>...</td>\n",
       "    </tr>\n",
       "    <tr>\n",
       "      <th>307257</th>\n",
       "      <td>Violife - Bio original block</td>\n",
       "      <td>0.009317</td>\n",
       "      <td>1.876280</td>\n",
       "      <td>0.931677</td>\n",
       "    </tr>\n",
       "    <tr>\n",
       "      <th>315474</th>\n",
       "      <td>Simply V - Würzige Geniesserscheiben</td>\n",
       "      <td>0.005657</td>\n",
       "      <td>1.821954</td>\n",
       "      <td>0.565702</td>\n",
       "    </tr>\n",
       "    <tr>\n",
       "      <th>275306</th>\n",
       "      <td>Violife - Greek white block</td>\n",
       "      <td>0.000000</td>\n",
       "      <td>2.007592</td>\n",
       "      <td>0.000000</td>\n",
       "    </tr>\n",
       "    <tr>\n",
       "      <th>313672</th>\n",
       "      <td>Bio-verde - Original griechischer Manouri</td>\n",
       "      <td>0.000000</td>\n",
       "      <td>0.301659</td>\n",
       "      <td>0.000000</td>\n",
       "    </tr>\n",
       "    <tr>\n",
       "      <th>314432</th>\n",
       "      <td>Bio Brie</td>\n",
       "      <td>0.000000</td>\n",
       "      <td>0.338655</td>\n",
       "      <td>0.000000</td>\n",
       "    </tr>\n",
       "  </tbody>\n",
       "</table>\n",
       "<p>256 rows × 4 columns</p>\n",
       "</div>"
      ],
      "text/plain": [
       "                                    combined_name        QI        DI  \\\n",
       "280677      Anna's BEST Berry Pepper Cream Cheese  3.686039  1.484453   \n",
       "290565   Coop Quality & Price - Fresh Goat Cheese  3.216822  2.328800   \n",
       "301582                 Oh! High Protein Salatkäse  2.558842  2.429829   \n",
       "296310                       La Vache qui rit mix  2.290395  3.025955   \n",
       "284385                       Natural white cheese  2.025645  1.656628   \n",
       "...                                           ...       ...       ...   \n",
       "307257               Violife - Bio original block  0.009317  1.876280   \n",
       "315474       Simply V - Würzige Geniesserscheiben  0.005657  1.821954   \n",
       "275306                Violife - Greek white block  0.000000  2.007592   \n",
       "313672  Bio-verde - Original griechischer Manouri  0.000000  0.301659   \n",
       "314432                                   Bio Brie  0.000000  0.338655   \n",
       "\n",
       "               NB  \n",
       "280677  46.828978  \n",
       "290565  71.930804  \n",
       "301582  65.203152  \n",
       "296310  64.909402  \n",
       "284385  62.317374  \n",
       "...           ...  \n",
       "307257   0.931677  \n",
       "315474   0.565702  \n",
       "275306   0.000000  \n",
       "313672   0.000000  \n",
       "314432   0.000000  \n",
       "\n",
       "[256 rows x 4 columns]"
      ]
     },
     "execution_count": 4,
     "metadata": {},
     "output_type": "execute_result"
    }
   ],
   "source": [
    "df_soft_cheese = df_food_scaled[df_food_scaled['food_group'] == 'soft_cheese']\n",
    "df_soft_cheese.drop_duplicates('combined_name')[['combined_name', 'QI', 'DI', 'NB']].sort_values('QI', ascending=False)"
   ]
  },
  {
   "cell_type": "code",
   "execution_count": null,
   "metadata": {},
   "outputs": [],
   "source": []
  },
  {
   "cell_type": "code",
   "execution_count": null,
   "metadata": {},
   "outputs": [],
   "source": []
  },
  {
   "cell_type": "code",
   "execution_count": null,
   "metadata": {},
   "outputs": [],
   "source": []
  },
  {
   "cell_type": "code",
   "execution_count": null,
   "metadata": {},
   "outputs": [],
   "source": []
  }
 ],
 "metadata": {
  "kernelspec": {
   "display_name": "Nutrient_Bachelor_Project",
   "language": "python",
   "name": "python3"
  },
  "language_info": {
   "codemirror_mode": {
    "name": "ipython",
    "version": 3
   },
   "file_extension": ".py",
   "mimetype": "text/x-python",
   "name": "python",
   "nbconvert_exporter": "python",
   "pygments_lexer": "ipython3",
   "version": "3.11.11"
  }
 },
 "nbformat": 4,
 "nbformat_minor": 2
}
